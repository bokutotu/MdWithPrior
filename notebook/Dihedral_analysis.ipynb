{
 "cells": [
  {
   "cell_type": "code",
   "execution_count": null,
   "id": "5a65c6e2",
   "metadata": {},
   "outputs": [],
   "source": [
    "import math\n",
    "import sys\n",
    "\n",
    "import numpy as np\n",
    "from scipy.ndimage import gaussian_filter\n",
    "from scipy.stats import multivariate_normal\n",
    "\n",
    "\n",
    "import torch\n",
    "import torch.nn as nn\n",
    "\n",
    "import matplotlib.pyplot as plt\n",
    "\n",
    "sys.path.append('..')\n",
    "\n",
    "from src.features.dihedral import DihedralLayer\n",
    "\n",
    "from dihedral import cal_dihedral\n",
    "\n",
    "coords_path = \"../../data/NPY/c_trj.npy\"\n",
    "forces_path = \"../../data/NPY/f_trj.npy\""
   ]
  },
  {
   "cell_type": "code",
   "execution_count": null,
   "id": "fa9985ec",
   "metadata": {},
   "outputs": [],
   "source": [
    "coords = np.load(coords_path)\n",
    "forces = np.load(forces_path)"
   ]
  },
  {
   "cell_type": "code",
   "execution_count": null,
   "id": "b30e3ec3",
   "metadata": {},
   "outputs": [],
   "source": [
    "dihedral = DihedralLayer(coords.shape[1])(torch.tensor(coords), is_sin_cos=False)\n",
    "dihedral = dihedral.numpy()"
   ]
  },
  {
   "cell_type": "code",
   "execution_count": null,
   "id": "8ae693db",
   "metadata": {},
   "outputs": [],
   "source": [
    "psi = dihedral[::, 0::2].reshape(-1)\n",
    "phi = dihedral[::, 1::2].reshape(-1)"
   ]
  },
  {
   "cell_type": "code",
   "execution_count": null,
   "id": "24cf0edc",
   "metadata": {},
   "outputs": [],
   "source": [
    "print(psi.shape)\n",
    "print(phi.shape)"
   ]
  },
  {
   "cell_type": "code",
   "execution_count": null,
   "id": "d8ca07bd",
   "metadata": {},
   "outputs": [],
   "source": [
    "plt.scatter(np.rad2deg(phi[0:100000])+179, np.rad2deg(psi[0:100000]) + 179)\n",
    "plt.show()"
   ]
  },
  {
   "cell_type": "code",
   "execution_count": null,
   "id": "2c8260f6",
   "metadata": {},
   "outputs": [],
   "source": [
    "grid = 50\n",
    "delta = 360 / grid\n",
    "\n",
    "cmap = np.zeros((grid, grid))\n",
    "psi_deg = np.rad2deg(psi) + 179\n",
    "phi_deg = np.rad2deg(phi) + 179\n",
    "\n",
    "for i in range(psi_deg.shape[0]):\n",
    "    phi_grid = int(phi_deg[i] / delta)\n",
    "    psi_grid = int(psi_deg[i] / delta)\n",
    "    cmap[psi_grid, phi_grid] += 1"
   ]
  },
  {
   "cell_type": "code",
   "execution_count": null,
   "id": "1981f7a8",
   "metadata": {},
   "outputs": [],
   "source": [
    "def plot_cmap_heat(grid, cmap):\n",
    "    fig, ax = plt.subplots()\n",
    "    # heatmap = ax.pcolor(cmap, cmap=plt.cm.Blues)\n",
    "    cmap_ = np.copy(cmap)\n",
    "    cmap_[cmap_ > 1] = np.log(cmap_[cmap_ > 1])\n",
    "#     heatmap = ax.pcolor(cmap, cmap=plt.cm.Blues)\n",
    "    heatmap = ax.pcolor(cmap_)\n",
    "    plt.show()"
   ]
  },
  {
   "cell_type": "code",
   "execution_count": null,
   "id": "889f060d",
   "metadata": {},
   "outputs": [],
   "source": [
    "plot_cmap_heat(grid, cmap)"
   ]
  },
  {
   "cell_type": "code",
   "execution_count": null,
   "id": "881ab077",
   "metadata": {},
   "outputs": [],
   "source": [
    "filterd_cmap = gaussian_filter(cmap, sigma=2, truncate=4)\n",
    "# filterd_cmap = gaussian_filter(filterd_cmap, sigma=1, truncate=10)\n",
    "plot_cmap_heat(grid, filterd_cmap)\n",
    "\n",
    "filterd_cmap_ = np.copy(filterd_cmap)\n",
    "filterd_cmap_[filterd_cmap_ == 0] = 100\n",
    "plot_cmap_heat(grid, filterd_cmap_)"
   ]
  },
  {
   "cell_type": "code",
   "execution_count": null,
   "id": "822d7ef3",
   "metadata": {},
   "outputs": [],
   "source": [
    "filterd_cmap[filterd_cmap == 0]"
   ]
  },
  {
   "cell_type": "code",
   "execution_count": null,
   "id": "36ed6154",
   "metadata": {},
   "outputs": [],
   "source": [
    "m = 2 #dimension\n",
    "mean = np.zeros(m)\n",
    "sigma = np.eye(m)\n",
    "\n",
    "N = grid\n",
    "\n",
    "\n",
    "def plot_energy_surface(cmap_, epsilon):\n",
    "    cmap_ = cmap_ + epsilon\n",
    "    energy = -1 * np.log(cmap_)\n",
    "    energy = energy + np.abs(np.min(energy))\n",
    "    \n",
    "    x1 = np.linspace(0, 50, N)\n",
    "    x2 = np.linspace(0, 50, N)\n",
    "\n",
    "    X1, X2 = np.meshgrid(x1, x2)\n",
    "    X = np.c_[np.ravel(X1), np.ravel(X2)]\n",
    "\n",
    "    fig = plt.figure()\n",
    "    ax = fig.add_subplot(111, projection='3d')\n",
    "    ax.view_init(elev=50, azim=45)\n",
    "    surf = ax.plot_surface(X1, X2, energy, cmap='bwr', linewidth=0)\n",
    "    fig.colorbar(surf)\n",
    "#     ax.set_title(\"Surface Plot\")\n",
    "    fig.show()\n",
    "    plot_cmap_heat(grid, energy)"
   ]
  },
  {
   "cell_type": "code",
   "execution_count": null,
   "id": "38f19f13",
   "metadata": {},
   "outputs": [],
   "source": [
    "plot_energy_surface(filterd_cmap, 1e-4)"
   ]
  },
  {
   "cell_type": "code",
   "execution_count": null,
   "id": "ac2db9d3",
   "metadata": {},
   "outputs": [],
   "source": [
    "plot_energy_surface(cmap, 1e-4)"
   ]
  },
  {
   "cell_type": "code",
   "execution_count": null,
   "id": "f2abc7b3",
   "metadata": {},
   "outputs": [],
   "source": [
    "# Forceの可視化\n",
    "\n",
    "def cal_energy(cmap_, epsilon=1e-4):\n",
    "    cmap_ = cmap_ + epsilon\n",
    "    energy = -1 * np.log(cmap_)\n",
    "    energy = energy + np.abs(np.min(energy)) + epsilon\n",
    "    return energy\n",
    "\n",
    "def cal_force(energy):\n",
    "    force_x = np.zeros_like(energy)\n",
    "    force_y = np.zeros_like(energy)\n",
    "    \n",
    "    for i in range(grid):\n",
    "        for j in range(grid):\n",
    "            x_max = 0 if i == grid - 1 else i + 1\n",
    "            x_min = i - 1\n",
    "            \n",
    "            y_max = 0 if j == grid - 1 else j + 1\n",
    "            y_min = j - 1\n",
    "            \n",
    "#             print(x_max, x_min, y_max, y_min)\n",
    "            \n",
    "            force_x[i,j] = -1 * (energy[x_max, j] - energy[x_min, j]) / delta\n",
    "            force_y[i,j] = -1 * (energy[i, y_max] - energy[i, y_min]) / delta\n",
    "            \n",
    "    return force_x, force_y"
   ]
  },
  {
   "cell_type": "code",
   "execution_count": null,
   "id": "48b61241",
   "metadata": {},
   "outputs": [],
   "source": [
    "def cmap_forces(energy, log=False):\n",
    "    cmap_force_x, cmap_force_y = cal_force(energy)\n",
    "    x1 = np.linspace(0, N, N)\n",
    "    x2 = np.linspace(0, N, N)\n",
    "    \n",
    "    xx, yy = np.meshgrid(x1, x2)\n",
    "    if log:\n",
    "        cmap_force_x_sign = np.sign(cmap_force_x)\n",
    "        cmap_force_y_sign = np.sign(cmap_force_y)\n",
    "        cmap_force_x = np.log(np.abs(cmap_force_x)) * cmap_force_x_sign\n",
    "        cmap_force_y = np.log(np.abs(cmap_force_y)) * cmap_force_y_sign\n",
    "    plt.quiver(xx, yy, cmap_force_y, cmap_force_x)\n",
    "    plt.figure(dpi=1, figsize=(10, 10))\n",
    "    plt.show()"
   ]
  },
  {
   "cell_type": "code",
   "execution_count": null,
   "id": "58c6e13c",
   "metadata": {},
   "outputs": [],
   "source": [
    "# cmap_force_x, cmap_force_y = cal_force(cmap)\n",
    "\n",
    "# x1 = np.linspace(0, 50, N)\n",
    "# x2 = np.linspace(0, 50, N)\n",
    "\n",
    "# xx, yy = np.meshgrid(x1, x2)\n",
    "\n",
    "# plt.quiver(xx, yy, cmap_force_x, cmap_force_y)\n",
    "# plt.show()\n",
    "cmap_energy = cal_energy(cmap)\n",
    "filterd_energy = cal_energy(filterd_cmap)\n",
    "\n",
    "cmap_forces(cmap_energy)\n",
    "cmap_forces(filterd_energy)"
   ]
  },
  {
   "cell_type": "code",
   "execution_count": null,
   "id": "4936f07f",
   "metadata": {},
   "outputs": [],
   "source": []
  }
 ],
 "metadata": {
  "kernelspec": {
   "display_name": "Python 3",
   "language": "python",
   "name": "python3"
  },
  "language_info": {
   "codemirror_mode": {
    "name": "ipython",
    "version": 3
   },
   "file_extension": ".py",
   "mimetype": "text/x-python",
   "name": "python",
   "nbconvert_exporter": "python",
   "pygments_lexer": "ipython3",
   "version": "3.8.8"
  }
 },
 "nbformat": 4,
 "nbformat_minor": 5
}
